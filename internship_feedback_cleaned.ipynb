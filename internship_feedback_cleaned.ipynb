{
 "cells": [
  {
   "cell_type": "code",
   "execution_count": null,
   "metadata": {
    "colab": {
     "base_uri": "https://localhost:8080/"
    },
    "id": "uRJ0xmftvtRa",
    "outputId": "ba73fe75-7579-4263-ee28-1c5434d2b199"
   },
   "outputs": [],
   "source": [
    "pip install pandas scikit-learn transformers torch nltk\n"
   ]
  },
  {
   "cell_type": "code",
   "execution_count": null,
   "metadata": {
    "colab": {
     "base_uri": "https://localhost:8080/",
     "height": 1000
    },
    "id": "tjESMuiByGwb",
    "outputId": "3e8172b4-e3be-41b5-be69-aa32af8e4fba"
   },
   "outputs": [],
   "source": [
    "import pandas as pd\n",
    "import matplotlib.pyplot as plt\n",
    "import seaborn as sns\n",
    "from sklearn.model_selection import train_test_split\n",
    "from sklearn.feature_extraction.text import TfidfVectorizer\n",
    "from sklearn.linear_model import LogisticRegression\n",
    "from sklearn.metrics import classification_report, confusion_matrix\n",
    "from wordcloud import WordCloud\n",
    "\n",
    "# Step 1: Load Dataset\n",
    "df = pd.read_csv(\"/content/intern_feedback_balanced.csv\")\n",
    "\n",
    "# Step 2: Visualize Sentiment Distribution\n",
    "plt.figure(figsize=(6, 4))\n",
    "sns.countplot(data=df, x='sentiment', palette='Set2')\n",
    "plt.title(\"Sentiment Distribution\")\n",
    "plt.xlabel(\"Sentiment\")\n",
    "plt.ylabel(\"Count\")\n",
    "plt.tight_layout()\n",
    "plt.show()\n",
    "\n",
    "# Step 3: WordClouds\n",
    "def generate_wordcloud(text, title):\n",
    "    wc = WordCloud(width=800, height=400, background_color='white', stopwords='english').generate(\" \".join(text))\n",
    "    plt.figure(figsize=(10, 5))\n",
    "    plt.imshow(wc, interpolation='bilinear')\n",
    "    plt.axis('off')\n",
    "    plt.title(title)\n",
    "    plt.show()\n",
    "\n",
    "generate_wordcloud(df[df['sentiment']=='positive']['feedback'], \"WordCloud - Positive Feedback\")\n",
    "generate_wordcloud(df[df['sentiment']=='negative']['feedback'], \"WordCloud - Negative Feedback\")\n",
    "\n",
    "# Step 4: Encode sentiment\n",
    "df['label'] = df['sentiment'].map({'positive': 1, 'negative': 0})\n",
    "\n",
    "# Step 5: Stratified Split to balance classes in both sets\n",
    "X_train, X_test, y_train, y_test = train_test_split(\n",
    "    df['feedback'], df['label'], test_size=0.2, stratify=df['label'], random_state=42)\n",
    "\n",
    "# Step 6: TF-IDF Vectorization\n",
    "vectorizer = TfidfVectorizer(max_features=1000, stop_words='english')\n",
    "X_train_vec = vectorizer.fit_transform(X_train)\n",
    "X_test_vec = vectorizer.transform(X_test)\n",
    "\n",
    "# Step 7: Train Model with Class Balancing\n",
    "model = LogisticRegression(class_weight='balanced', random_state=42)\n",
    "model.fit(X_train_vec, y_train)\n",
    "y_pred = model.predict(X_test_vec)\n",
    "\n",
    "# Step 8: Classification Report\n",
    "print(\"\\nClassification Report:\")\n",
    "print(classification_report(y_test, y_pred, target_names=[\"Negative\", \"Positive\"]))\n",
    "\n",
    "# Step 9: Confusion Matrix\n",
    "cm = confusion_matrix(y_test, y_pred)\n",
    "plt.figure(figsize=(5, 4))\n",
    "sns.heatmap(cm, annot=True, fmt='d', cmap='Blues',\n",
    "            xticklabels=['Negative', 'Positive'],\n",
    "            yticklabels=['Negative', 'Positive'])\n",
    "plt.xlabel(\"Predicted\")\n",
    "plt.ylabel(\"Actual\")\n",
    "plt.title(\"Confusion Matrix\")\n",
    "plt.tight_layout()\n",
    "plt.show()\n",
    "\n",
    "# Step 10: Most Influential Words\n",
    "feature_names = vectorizer.get_feature_names_out()\n",
    "coefficients = model.coef_[0]\n",
    "\n",
    "top_pos_indices = coefficients.argsort()[::-1][:10]\n",
    "top_neg_indices = coefficients.argsort()[:10]\n",
    "\n",
    "top_pos_words = [(feature_names[i], coefficients[i]) for i in top_pos_indices]\n",
    "top_neg_words = [(feature_names[i], coefficients[i]) for i in top_neg_indices]\n",
    "\n",
    "# Plot Function\n",
    "def plot_words(words, title, color):\n",
    "    labels, values = zip(*words)\n",
    "    plt.figure(figsize=(10, 5))\n",
    "    sns.barplot(x=values, y=labels, palette=color)\n",
    "    plt.title(title)\n",
    "    plt.xlabel(\"TF-IDF Weight (Model Coefficient)\")\n",
    "    plt.tight_layout()\n",
    "    plt.show()\n",
    "\n",
    "plot_words(top_pos_words, \"Top Words Predicting Positive Sentiment\", \"Greens\")\n",
    "plot_words(top_neg_words, \"Top Words Predicting Negative Sentiment\", \"Reds\")\n"
   ]
  },
  {
   "cell_type": "markdown",
   "metadata": {
    "id": "6ETGVsH45zRs"
   },
   "source": [
    "**LDA topic modeling**"
   ]
  },
  {
   "cell_type": "code",
   "execution_count": null,
   "metadata": {
    "colab": {
     "base_uri": "https://localhost:8080/"
    },
    "id": "ZKPfqfrv2H56",
    "outputId": "e4552678-3349-4456-c500-788c0d012987"
   },
   "outputs": [],
   "source": [
    "import pandas as pd\n",
    "import nltk\n",
    "from nltk.corpus import stopwords\n",
    "from gensim import corpora, models\n",
    "\n",
    "# download stopwords\n",
    "nltk.download('punkt')\n",
    "nltk.download('stopwords')\n",
    "\n",
    "# Step 1: Load dataset and filter negative feedback\n",
    "df = pd.read_csv(\"/content/intern_feedback_balanced.csv\")\n",
    "df = df[df['sentiment'] == 'negative']  # Only negative feedback\n",
    "\n",
    "# Step 2: Preprocess and tokenize\n",
    "stop_words = set(stopwords.words('english'))\n",
    "\n",
    "def preprocess(text):\n",
    "    tokens = nltk.word_tokenize(text.lower())\n",
    "    return [word for word in tokens if word.isalpha() and word not in stop_words]\n",
    "\n",
    "df['tokens'] = df['feedback'].apply(preprocess)\n",
    "\n",
    "# Step 3: Topic Modeling using LDA\n",
    "dictionary = corpora.Dictionary(df['tokens'])\n",
    "corpus = [dictionary.doc2bow(text) for text in df['tokens']]\n",
    "\n",
    "lda_model = models.LdaModel(corpus, num_topics=3, id2word=dictionary, passes=10, random_state=42)\n",
    "\n",
    "# Step 4: Show topics\n",
    "print(\"\\n🔍 Top complaint themes (topics):\")\n",
    "for i, topic in lda_model.print_topics():\n",
    "    print(f\"Topic {i+1}: {topic}\")\n"
   ]
  },
  {
   "cell_type": "markdown",
   "metadata": {
    "id": "7CoXOWGFyzmE"
   },
   "source": [
    "**Transformer-based Model (BERT)**"
   ]
  },
  {
   "cell_type": "code",
   "execution_count": null,
   "metadata": {
    "colab": {
     "base_uri": "https://localhost:8080/",
     "height": 1000
    },
    "id": "buJ2PexHCrtE",
    "outputId": "7272e09d-99ea-430f-b688-def758e43c0a"
   },
   "outputs": [],
   "source": [
    "pip install -U transformers datasets\n"
   ]
  },
  {
   "cell_type": "code",
   "execution_count": null,
   "metadata": {
    "colab": {
     "base_uri": "https://localhost:8080/"
    },
    "id": "R5EyTt0KBC_C",
    "outputId": "ee1df57e-9041-43f9-f532-381cf88fc245"
   },
   "outputs": [],
   "source": [
    "pip install transformers datasets\n"
   ]
  },
  {
   "cell_type": "code",
   "execution_count": null,
   "metadata": {
    "colab": {
     "base_uri": "https://localhost:8080/"
    },
    "id": "Zpy0lMPtCaJl",
    "outputId": "6805d627-1c81-43b2-ead9-f543c63d3433"
   },
   "outputs": [],
   "source": [
    "!pip install -U transformers\n"
   ]
  },
  {
   "cell_type": "code",
   "execution_count": null,
   "metadata": {
    "colab": {
     "base_uri": "https://localhost:8080/"
    },
    "id": "4XpFo8wRy5gE",
    "outputId": "00ac4dbe-9924-432a-a480-ab75b882c192"
   },
   "outputs": [],
   "source": [
    "from transformers import pipeline\n",
    "\n",
    "# Load pretrained sentiment pipeline\n",
    "sentiment_analyzer = pipeline(\"sentiment-analysis\")\n",
    "\n",
    "# Example usage\n",
    "sample_feedback = [\n",
    "    \"The team was very supportive and helped me learn a lot.\",\n",
    "    \"I felt ignored and didn't get enough guidance.\"\n",
    "]\n",
    "\n",
    "results = sentiment_analyzer(sample_feedback)\n",
    "\n",
    "for fb, res in zip(sample_feedback, results):\n",
    "    print(f\"\\nFeedback: {fb}\\nSentiment: {res['label']} (Score: {res['score']:.2f})\")\n"
   ]
  },
  {
   "cell_type": "code",
   "execution_count": null,
   "metadata": {
    "colab": {
     "base_uri": "https://localhost:8080/",
     "height": 1000,
     "referenced_widgets": [
      "1b23c17fbef34b9695306650ef078300",
      "fb3760f3a79241038ca22ea9c03b581d",
      "fb78af5269b449dea84aa93b29368671",
      "4e6eb82543d94d609d1503ff7b3b4614",
      "3c36df5075b14ca5980ed7a5b5f3d565",
      "510d4235ebe447beafdf91bf827d8123",
      "eb38484dd1d64b35b2c1f9fa57142bd0",
      "763cc046d58b43e581ff60e11b0d2eed",
      "19dce0147d534d9a9458c421dddaf0e8",
      "fa6b37f730e24627b6c12687ba463401",
      "93e56a85bdfc4e43adb73c62e833e154",
      "2deaeddeda5f42b3b3f99fef35970224",
      "90fa4f2ac9ce4d9baa325349ee3c099a",
      "0871f8ad42644544877ff36ca968d385",
      "15f2558c5c6f4e8a98c5f1c2a7497ddf",
      "70560b0764a14f8e85e4c54629f704ef",
      "cebf338f614341d69080143353751696",
      "48cf37b375fc423b875df0891dd1b6f5",
      "972dd91645d24f8aafc7667776f59576",
      "2b3a9bc4a6a549d29802a69991cc629b",
      "d902ce6eb20e4a91bfb3c6dd2eb06d7f",
      "8bed3ee2c9bc4c15bec685ef666d92e3"
     ]
    },
    "id": "YbkPCjRGBGS2",
    "outputId": "af7398ee-cc54-4e50-f297-b6dee5796df8"
   },
   "outputs": [],
   "source": [
    "import pandas as pd\n",
    "from sklearn.model_selection import train_test_split\n",
    "from sklearn.metrics import classification_report, confusion_matrix\n",
    "import torch\n",
    "from transformers import BertTokenizer, BertForSequenceClassification, Trainer, TrainingArguments\n",
    "from datasets import Dataset\n",
    "import matplotlib.pyplot as plt\n",
    "import seaborn as sns\n",
    "\n",
    "# Step 1: Load dataset\n",
    "df = pd.read_csv(\"/content/intern_feedback_balanced.csv\")\n",
    "df['label'] = df['sentiment'].map({'negative': 0, 'positive': 1})\n",
    "\n",
    "# Step 2: Train-test split\n",
    "train_texts, test_texts, train_labels, test_labels = train_test_split(\n",
    "    df['feedback'].tolist(), df['label'].tolist(), test_size=0.2, stratify=df['label'], random_state=42)\n",
    "\n",
    "# Step 3: Tokenization\n",
    "tokenizer = BertTokenizer.from_pretrained(\"bert-base-uncased\")\n",
    "\n",
    "def tokenize(batch):\n",
    "    return tokenizer(batch[\"text\"], padding=\"max_length\", truncation=True, max_length=128)\n",
    "\n",
    "train_df = pd.DataFrame({\"text\": train_texts, \"label\": train_labels})\n",
    "test_df = pd.DataFrame({\"text\": test_texts, \"label\": test_labels})\n",
    "\n",
    "train_dataset = Dataset.from_pandas(train_df)\n",
    "test_dataset = Dataset.from_pandas(test_df)\n",
    "\n",
    "train_dataset = train_dataset.map(tokenize, batched=True)\n",
    "test_dataset = test_dataset.map(tokenize, batched=True)\n",
    "\n",
    "train_dataset.set_format(\"torch\", columns=[\"input_ids\", \"attention_mask\", \"label\"])\n",
    "test_dataset.set_format(\"torch\", columns=[\"input_ids\", \"attention_mask\", \"label\"])\n",
    "\n",
    "# Step 4: Load pre-trained BERT for binary classification\n",
    "model = BertForSequenceClassification.from_pretrained(\"bert-base-uncased\", num_labels=2)\n",
    "\n",
    "# Step 5: Define training arguments\n",
    "training_args = TrainingArguments(\n",
    "    output_dir=\"./results\",\n",
    "    do_train=True,\n",
    "    do_eval=True,\n",
    "    num_train_epochs=3,\n",
    "    per_device_train_batch_size=4,\n",
    "    per_device_eval_batch_size=4,\n",
    "    logging_dir=\"./logs\",\n",
    "    logging_steps=10,\n",
    "    save_strategy=\"no\"  # avoids trying to save checkpoints\n",
    ")\n",
    "\n",
    "# Step 6: Define Trainer\n",
    "trainer = Trainer(\n",
    "    model=model,\n",
    "    args=training_args,\n",
    "    train_dataset=train_dataset,\n",
    "    eval_dataset=test_dataset\n",
    ")\n",
    "\n",
    "# Step 7: Train the model\n",
    "trainer.train()\n",
    "\n",
    "# Step 8: Predict and evaluate\n",
    "predictions = trainer.predict(test_dataset)\n",
    "y_pred = predictions.predictions.argmax(axis=1)\n",
    "\n",
    "print(\"\\nClassification Report:\")\n",
    "print(classification_report(test_labels, y_pred, target_names=[\"Negative\", \"Positive\"]))\n",
    "\n",
    "# Step 9: Confusion Matrix\n",
    "cm = confusion_matrix(test_labels, y_pred)\n",
    "plt.figure(figsize=(5, 4))\n",
    "sns.heatmap(cm, annot=True, fmt='d', cmap='Blues',\n",
    "            xticklabels=['Negative', 'Positive'],\n",
    "            yticklabels=['Negative', 'Positive'])\n",
    "plt.xlabel(\"Predicted\")\n",
    "plt.ylabel(\"Actual\")\n",
    "plt.title(\"BERT Confusion Matrix\")\n",
    "plt.tight_layout()\n",
    "plt.show()\n"
   ]
  },
  {
   "cell_type": "code",
   "execution_count": null,
   "metadata": {
    "colab": {
     "base_uri": "https://localhost:8080/",
     "height": 637
    },
    "id": "4655f8b1",
    "outputId": "10268269-697a-4c11-e9f9-9c9b7bed237a"
   },
   "outputs": [],
   "source": [
    "pip install gensim"
   ]
  }
 ],
 "metadata": {
  "colab": {
   "provenance": []
  },
  "kernelspec": {
   "display_name": "Python 3",
   "name": "python3"
  },
  "language_info": {
   "name": "python"
  }
 },
 "nbformat": 4,
 "nbformat_minor": 0
}
